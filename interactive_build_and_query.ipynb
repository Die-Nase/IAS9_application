{
 "cells": [
  {
   "cell_type": "code",
   "execution_count": 1,
   "id": "8faffe8b-0b3c-41fd-98c8-a7a90d58f4e6",
   "metadata": {},
   "outputs": [],
   "source": [
    "from utils import build_graph_from_github_org\n",
    "from visualizer import visualize_graph"
   ]
  },
  {
   "cell_type": "code",
   "execution_count": 2,
   "id": "08b04d49-2262-4080-9480-b21a4bf698b7",
   "metadata": {
    "tags": []
   },
   "outputs": [],
   "source": [
    "# provide authentification tokens for github api and orcid public api\n",
    "github_token = \"your-github-token\"\n",
    "orcid_token = \"your-orcid-token\"\n",
    "\n",
    "# Provide the Name of the Github Organization and the corresponding ROR ID\n",
    "github_org_name = \"Materials-Data-Science-and-Informatics\"\n",
    "corresponding_ror_id = \"02nv7yv05\""
   ]
  },
  {
   "cell_type": "markdown",
   "id": "17579b82-256c-438b-b227-ae1f5b933c17",
   "metadata": {},
   "source": [
    "# Build Graph"
   ]
  },
  {
   "cell_type": "code",
   "execution_count": 3,
   "id": "62b691bb-7fe0-4362-be30-821ce7d72524",
   "metadata": {
    "tags": []
   },
   "outputs": [
    {
     "name": "stdout",
     "output_type": "stream",
     "text": [
      "Help on function build_graph_from_github_org in module utils:\n",
      "\n",
      "build_graph_from_github_org(github_org_name, corresponding_ror_id, github_token, orcid_token)\n",
      "    Builds an RDF graph representing a GitHub organization's repositories and contributors, \n",
      "    enriched with data from ORCID and ROR APIs. \n",
      "    \n",
      "    Args:\n",
      "        github_org_name (str): The GitHub organization name (e.g., \"Materials-Data-Science-and-Informatics\").\n",
      "        corresponding_ror_id (str): The ROR (Research Organization Registry) identifier for the organization \n",
      "                                    (e.g., \"https://ror.org/02nv7yv05\").\n",
      "        github_token (str): GitHub API access token for authenticating API requests.\n",
      "        orcid_token (str): ORCID API access token for authenticating API requests.\n",
      "    \n",
      "    Returns:\n",
      "        rdflib.Graph: An RDF graph containing information about the organization, its repositories, \n",
      "                      and contributors, represented in schema.org format.\n",
      "    \n",
      "    Notes:\n",
      "        - The graph integrates data from GitHub, ORCID, ROR, and WikiData\n",
      "        - The main entities in the graph are:\n",
      "            - `schema.org:Person`: Representing individual contributors.\n",
      "            - `schema.org:Organization`: Representing the organization hosting the repositories,\n",
      "               as well as the 'affiliation' and 'alumniOf' of `schema.org:Person`.\n",
      "            - `schema.org:SoftwareSourceCode`: Representing individual repositories.\n",
      "        - Only contributors with an associated ORCID record are included in the graph.\n",
      "        - Only organizations with an associated ROR ID record are included in the graph.\n",
      "\n"
     ]
    }
   ],
   "source": [
    "help(build_graph_from_github_org)"
   ]
  },
  {
   "cell_type": "code",
   "execution_count": 4,
   "id": "80ec7473-93d0-469e-bd59-58e1c95484b9",
   "metadata": {
    "collapsed": true,
    "jupyter": {
     "outputs_hidden": true
    },
    "tags": []
   },
   "outputs": [
    {
     "name": "stderr",
     "output_type": "stream",
     "text": [
      "2024-12-12 11:21:50,504 - build_graph_logs - INFO - Starting the process to build an RDF graph for the GitHub organization: Materials-Data-Science-and-Informatics.\n",
      "2024-12-12 11:21:50,504 - build_graph_logs - INFO - Fetching organization data from ROR for ID: 02nv7yv05\n",
      "2024-12-12 11:21:50,504 - build_graph_logs - INFO - Starting query to ROR API for ROR ID: 02nv7yv05\n",
      "2024-12-12 11:21:50,504 - build_graph_logs - INFO - Starting request to https://api.ror.org/organizations/02nv7yv05 with headers: {'Accept': 'application/json'}\n",
      "2024-12-12 11:21:50,867 - build_graph_logs - INFO - Successfully fetched data from https://api.ror.org/organizations/02nv7yv05 (Status: 200)\n",
      "2024-12-12 11:21:50,867 - build_graph_logs - INFO - Successfully fetched ROR data for ROR ID: 02nv7yv05\n",
      "2024-12-12 11:21:52,854 - build_graph_logs - INFO - Fetching GitHub organization details for: Materials-Data-Science-and-Informatics\n",
      "2024-12-12 11:21:52,854 - build_graph_logs - INFO - Starting request to https://api.github.com/orgs/Materials-Data-Science-and-Informatics with headers: {'Authorization': '***HIDDEN***'}\n",
      "2024-12-12 11:21:53,184 - build_graph_logs - INFO - Successfully fetched data from https://api.github.com/orgs/Materials-Data-Science-and-Informatics (Status: 200)\n",
      "2024-12-12 11:21:53,184 - build_graph_logs - INFO - Fetching repositories for the organization: Materials-Data-Science-and-Informatics\n",
      "2024-12-12 11:21:53,184 - build_graph_logs - INFO - Starting request to https://api.github.com/orgs/Materials-Data-Science-and-Informatics/repos with headers: {'Authorization': '***HIDDEN***'}\n",
      "2024-12-12 11:21:54,187 - build_graph_logs - INFO - Successfully fetched data from https://api.github.com/orgs/Materials-Data-Science-and-Informatics/repos (Status: 200)\n",
      "2024-12-12 11:21:54,187 - build_graph_logs - INFO - Found 30 repositories for the organization.\n",
      "2024-12-12 11:21:54,203 - build_graph_logs - INFO - Processing repository: dislocation-ontology\n",
      "2024-12-12 11:21:54,205 - build_graph_logs - INFO - Starting request to https://api.github.com/repos/Materials-Data-Science-and-Informatics/dislocation-ontology/contributors with headers: {'Authorization': '***HIDDEN***'}\n",
      "2024-12-12 11:21:54,542 - build_graph_logs - INFO - Successfully fetched data from https://api.github.com/repos/Materials-Data-Science-and-Informatics/dislocation-ontology/contributors (Status: 200)\n",
      "2024-12-12 11:21:54,542 - build_graph_logs - INFO - Found 2 contributors for the repository: dislocation-ontology\n",
      "2024-12-12 11:21:54,542 - build_graph_logs - INFO - Starting request to https://api.github.com/users/az-ihsan with headers: {'Authorization': '***HIDDEN***'}\n",
      "2024-12-12 11:21:54,858 - build_graph_logs - INFO - Successfully fetched data from https://api.github.com/users/az-ihsan (Status: 200)\n",
      "2024-12-12 11:21:54,858 - build_graph_logs - INFO - Looking up ORCID for contributor: Ahmad Zainul Ihsan\n",
      "2024-12-12 11:21:54,858 - build_graph_logs - INFO - Starting request to https://pub.orcid.org/v3.0/search/?q=given-names:Ahmad Zainul+AND+family-name:Ihsan with headers: {'Accept': 'application/json', 'Authorization': '***HIDDEN***'}\n",
      "2024-12-12 11:21:55,359 - build_graph_logs - INFO - Successfully fetched data from https://pub.orcid.org/v3.0/search/?q=given-names:Ahmad Zainul+AND+family-name:Ihsan (Status: 200)\n",
      "2024-12-12 11:21:55,374 - build_graph_logs - INFO - Fetching ORCID data for: Ahmad Zainul Ihsan (0000-0002-1008-4530)\n",
      "2024-12-12 11:21:55,374 - build_graph_logs - INFO - Starting request to https://pub.orcid.org/v3.0/0000-0002-1008-4530 with headers: {'Accept': 'application/ld+json', 'Authorization': '***HIDDEN***'}\n",
      "2024-12-12 11:21:55,691 - build_graph_logs - INFO - Successfully fetched data from https://pub.orcid.org/v3.0/0000-0002-1008-4530 (Status: 200)\n",
      "2024-12-12 11:21:55,691 - build_graph_logs - INFO - Updating organization data for contributor: Ahmad Zainul Ihsan\n",
      "2024-12-12 11:21:55,691 - build_graph_logs - INFO - Starting to extract ROR for the organization: Technische Universität Bergakademie Freiberg\n",
      "2024-12-12 11:21:55,691 - build_graph_logs - INFO - Found identifier: {'@type': 'PropertyValue', 'propertyID': 'RINGGOLD', 'value': '26545'}\n",
      "2024-12-12 11:21:55,691 - build_graph_logs - INFO - Processing identifier with propertyID: RINGGOLD, value: 26545\n",
      "2024-12-12 11:21:55,691 - build_graph_logs - INFO - Identifier is a Ringgold identifier. Querying ROR for Ringgold: 26545\n",
      "2024-12-12 11:21:55,706 - build_graph_logs - INFO - Starting query for Ringgold ID 26545 in Wikidata.\n",
      "2024-12-12 11:21:55,706 - build_graph_logs - INFO - Starting request to https://query.wikidata.org/sparql with headers: {'User-Agent': 'Python script to query Wikidata for ROR using Ringgold', 'Accept': 'application/json'}\n",
      "2024-12-12 11:21:56,824 - build_graph_logs - INFO - Successfully fetched data from https://query.wikidata.org/sparql (Status: 200)\n",
      "2024-12-12 11:21:56,824 - build_graph_logs - INFO - Found ROR ID https://ror.org/031vc2293 for Ringgold ID 26545.\n",
      "2024-12-12 11:21:56,839 - build_graph_logs - INFO - Starting to extract ROR for the organization: Institut Teknologi Bandung\n",
      "2024-12-12 11:21:56,839 - build_graph_logs - INFO - Found identifier: {'@type': 'PropertyValue', 'propertyID': 'RINGGOLD', 'value': '89224'}\n",
      "2024-12-12 11:21:56,839 - build_graph_logs - INFO - Processing identifier with propertyID: RINGGOLD, value: 89224\n",
      "2024-12-12 11:21:56,839 - build_graph_logs - INFO - Identifier is a Ringgold identifier. Querying ROR for Ringgold: 89224\n",
      "2024-12-12 11:21:56,846 - build_graph_logs - INFO - Starting query for Ringgold ID 89224 in Wikidata.\n",
      "2024-12-12 11:21:56,846 - build_graph_logs - INFO - Starting request to https://query.wikidata.org/sparql with headers: {'User-Agent': 'Python script to query Wikidata for ROR using Ringgold', 'Accept': 'application/json'}\n",
      "2024-12-12 11:21:57,748 - build_graph_logs - INFO - Successfully fetched data from https://query.wikidata.org/sparql (Status: 200)\n",
      "2024-12-12 11:21:57,748 - build_graph_logs - INFO - Found ROR ID https://ror.org/00apj8t60 for Ringgold ID 89224.\n",
      "2024-12-12 11:21:57,748 - build_graph_logs - INFO - Starting to extract ROR for the organization: Forschungszentrum Jülich\n",
      "2024-12-12 11:21:57,748 - build_graph_logs - INFO - Found identifier: {'@type': 'PropertyValue', 'propertyID': 'ROR', 'value': 'https://ror.org/02nv7yv05'}\n",
      "2024-12-12 11:21:57,764 - build_graph_logs - INFO - Processing identifier with propertyID: ROR, value: https://ror.org/02nv7yv05\n",
      "2024-12-12 11:21:57,764 - build_graph_logs - INFO - Identifier is a ROR: https://ror.org/02nv7yv05\n",
      "2024-12-12 11:21:57,764 - build_graph_logs - INFO - Starting to extract ROR for the organization: Forschungszentrum Jülich GmbH\n",
      "2024-12-12 11:21:57,764 - build_graph_logs - INFO - Found identifier: {'@type': 'PropertyValue', 'propertyID': 'RINGGOLD', 'value': '28334'}\n",
      "2024-12-12 11:21:57,779 - build_graph_logs - INFO - Processing identifier with propertyID: RINGGOLD, value: 28334\n",
      "2024-12-12 11:21:57,779 - build_graph_logs - INFO - Identifier is a Ringgold identifier. Querying ROR for Ringgold: 28334\n",
      "2024-12-12 11:21:57,779 - build_graph_logs - INFO - Starting query for Ringgold ID 28334 in Wikidata.\n",
      "2024-12-12 11:21:57,779 - build_graph_logs - INFO - Starting request to https://query.wikidata.org/sparql with headers: {'User-Agent': 'Python script to query Wikidata for ROR using Ringgold', 'Accept': 'application/json'}\n",
      "2024-12-12 11:21:58,196 - build_graph_logs - INFO - Successfully fetched data from https://query.wikidata.org/sparql (Status: 200)\n",
      "2024-12-12 11:21:58,196 - build_graph_logs - INFO - Found ROR ID https://ror.org/02nv7yv05 for Ringgold ID 28334.\n",
      "2024-12-12 11:21:58,212 - build_graph_logs - INFO - Starting to extract ROR for the organization: Technische Universität Bergakademie Freiberg\n",
      "2024-12-12 11:21:58,212 - build_graph_logs - INFO - Found identifier: {'@type': 'PropertyValue', 'propertyID': 'RINGGOLD', 'value': '26545'}\n",
      "2024-12-12 11:21:58,212 - build_graph_logs - INFO - Processing identifier with propertyID: RINGGOLD, value: 26545\n",
      "2024-12-12 11:21:58,212 - build_graph_logs - INFO - Identifier is a Ringgold identifier. Querying ROR for Ringgold: 26545\n",
      "2024-12-12 11:21:58,212 - build_graph_logs - INFO - Starting query for Ringgold ID 26545 in Wikidata.\n",
      "2024-12-12 11:21:58,212 - build_graph_logs - INFO - Starting request to https://query.wikidata.org/sparql with headers: {'User-Agent': 'Python script to query Wikidata for ROR using Ringgold', 'Accept': 'application/json'}\n",
      "2024-12-12 11:21:58,450 - build_graph_logs - INFO - Successfully fetched data from https://query.wikidata.org/sparql (Status: 200)\n",
      "2024-12-12 11:21:58,450 - build_graph_logs - INFO - Found ROR ID https://ror.org/031vc2293 for Ringgold ID 26545.\n",
      "2024-12-12 11:22:00,802 - build_graph_logs - INFO - Contributor Ahmad Zainul Ihsan added to the graph.\n",
      "2024-12-12 11:22:00,802 - build_graph_logs - INFO - Starting request to https://api.github.com/users/saidfathalla with headers: {'Authorization': '***HIDDEN***'}\n",
      "2024-12-12 11:22:01,087 - build_graph_logs - INFO - Successfully fetched data from https://api.github.com/users/saidfathalla (Status: 200)\n",
      "2024-12-12 11:22:01,103 - build_graph_logs - INFO - Looking up ORCID for contributor: Said Fathalla\n",
      "2024-12-12 11:22:01,103 - build_graph_logs - INFO - Starting request to https://pub.orcid.org/v3.0/search/?q=given-names:Said+AND+family-name:Fathalla with headers: {'Accept': 'application/json', 'Authorization': '***HIDDEN***'}\n",
      "2024-12-12 11:22:01,404 - build_graph_logs - INFO - Successfully fetched data from https://pub.orcid.org/v3.0/search/?q=given-names:Said+AND+family-name:Fathalla (Status: 200)\n",
      "2024-12-12 11:22:01,404 - build_graph_logs - INFO - Fetching ORCID data for: Said Fathalla (0000-0002-2089-6364)\n",
      "2024-12-12 11:22:01,419 - build_graph_logs - INFO - Starting request to https://pub.orcid.org/v3.0/0000-0002-2089-6364 with headers: {'Accept': 'application/ld+json', 'Authorization': '***HIDDEN***'}\n",
      "2024-12-12 11:22:01,889 - build_graph_logs - INFO - Successfully fetched data from https://pub.orcid.org/v3.0/0000-0002-2089-6364 (Status: 200)\n",
      "2024-12-12 11:22:01,889 - build_graph_logs - INFO - Updating organization data for contributor: Said Fathalla\n",
      "2024-12-12 11:22:04,044 - build_graph_logs - INFO - Contributor Said Fathalla added to the graph.\n",
      "2024-12-12 11:22:08,075 - build_graph_logs - INFO - Repository dislocation-ontology added to the graph.\n",
      "2024-12-12 11:22:08,075 - build_graph_logs - INFO - Graph building process completed successfully.\n"
     ]
    }
   ],
   "source": [
    "graph = build_graph_from_github_org(github_org_name, corresponding_ror_id,\n",
    "                    github_token, orcid_token)"
   ]
  },
  {
   "cell_type": "markdown",
   "id": "161ced25-2b2d-4a13-a554-ad3f38d83434",
   "metadata": {},
   "source": [
    "# Save and Load"
   ]
  },
  {
   "cell_type": "code",
   "execution_count": 4,
   "id": "7d13ab83-05ad-4941-8996-220272205d5a",
   "metadata": {
    "tags": []
   },
   "outputs": [
    {
     "data": {
      "text/plain": [
       "<Graph identifier=N2d1fefea00eb45e58223dfefbf97a181 (<class 'rdflib.graph.Graph'>)>"
      ]
     },
     "execution_count": 4,
     "metadata": {},
     "output_type": "execute_result"
    }
   ],
   "source": [
    "# save graph data\n",
    "graph.serialize(destination=\"graph.ttl\")"
   ]
  },
  {
   "cell_type": "code",
   "execution_count": 5,
   "id": "769dcdc0-4b82-4f28-8525-ee4317970f35",
   "metadata": {
    "tags": []
   },
   "outputs": [
    {
     "data": {
      "text/plain": [
       "<Graph identifier=N510f499adbbf451b8c43b722cec50a44 (<class 'rdflib.graph.Graph'>)>"
      ]
     },
     "execution_count": 5,
     "metadata": {},
     "output_type": "execute_result"
    }
   ],
   "source": [
    "# or load a previously saved graph\n",
    "from rdflib import Graph\n",
    "graph = Graph()\n",
    "graph.parse(\"graph.ttl\")"
   ]
  },
  {
   "cell_type": "markdown",
   "id": "5d0ee515-658f-46d6-aef5-5aebd624aedd",
   "metadata": {},
   "source": [
    "# Visualize Graph"
   ]
  },
  {
   "cell_type": "code",
   "execution_count": 4,
   "id": "4a587a21-efaa-49d5-96bc-73a76a60a5bf",
   "metadata": {
    "tags": []
   },
   "outputs": [
    {
     "name": "stdout",
     "output_type": "stream",
     "text": [
      "Help on function visualize_graph in module visualizer:\n",
      "\n",
      "visualize_graph(graph, hide_literals=False, hide_BNodes=False, hide_labels=False, hide_type_nodes=False, sparql_query='', physics=False)\n",
      "    Visualizes an RDFLib graph using PyVis, with options to filter nodes, edges, \n",
      "    and customize the visualization. The resulting interactive graph is displayed \n",
      "    as an IFrame and saved to an HTML file.\n",
      "    \n",
      "    Args:\n",
      "        graph (rdflib.Graph): The RDFLib graph to visualize.\n",
      "        hide_literals (bool): If True, hides nodes that are literals.\n",
      "                              Information in literals is preserved in node titles.\n",
      "        hide_BNodes (bool): If True, hides blank nodes (BNodes). \n",
      "                            Information in BNodes is preserved in node titles.\n",
      "        hide_labels (bool): If True, hides labels on nodes and edges.\n",
      "                            All information is available in the node titles.\n",
      "        hide_type_nodes (bool): If True, hides nodes connected by the `rdf:type` predicate.\n",
      "                                Type information is preserved in the node titles.\n",
      "        sparql_query (str): A SPARQL query to extract a subgraph for visualization.\n",
      "                            If empty, the entire graph is visualized.\n",
      "        physics (bool): If True, enables physics simulation for the graph layout.\n",
      "    \n",
      "    Returns:\n",
      "        IPython.core.display.IFrame: An IFrame displaying the interactive graph, \n",
      "                                     also saved as an HTML file.\n",
      "    \n",
      "    Notes:\n",
      "        - The visualization is directed by default.\n",
      "        - Nodes are color-coded based on their types and properties:\n",
      "            - **Literals**: Yellow (#FFFF00)\n",
      "            - **Blank Nodes**: Dark grey (#A9A9A9)\n",
      "            - **schema:Organization**: Blue (#2196F3)\n",
      "            - **schema:Person**: Green (#4CAF50)\n",
      "            - **schema:SoftwareSourceCode**: Purple (#9C27B0)\n",
      "            - **schema:CreativeWork**: Orange (#FF8800)\n",
      "            - **Other URIs**: Light gray (#D3D3D3)\n",
      "        - Even when hiding labels, literals, or type nodes, all associated information \n",
      "          is preserved in the node titles, which can be accessed by clicking on a node \n",
      "          in the interactive graph.\n",
      "\n"
     ]
    }
   ],
   "source": [
    "help(visualize_graph)"
   ]
  },
  {
   "cell_type": "code",
   "execution_count": 7,
   "id": "164d5bb3-c474-4bcc-a8f6-be0ba6ef6e43",
   "metadata": {
    "collapsed": true,
    "jupyter": {
     "outputs_hidden": true
    },
    "tags": []
   },
   "outputs": [
    {
     "name": "stdout",
     "output_type": "stream",
     "text": [
      "Warning: When  cdn_resources is 'local' jupyter notebook has issues displaying graphics on chrome/safari. Use cdn_resources='in_line' or cdn_resources='remote' if you have issues viewing graphics in a notebook.\n",
      "graph.html\n"
     ]
    },
    {
     "data": {
      "text/html": [
       "\n",
       "        <iframe\n",
       "            width=\"100%\"\n",
       "            height=\"600px\"\n",
       "            src=\"graph.html\"\n",
       "            frameborder=\"0\"\n",
       "            allowfullscreen\n",
       "            \n",
       "        ></iframe>\n",
       "        "
      ],
      "text/plain": [
       "<IPython.lib.display.IFrame at 0x232f6a5bb10>"
      ]
     },
     "execution_count": 7,
     "metadata": {},
     "output_type": "execute_result"
    }
   ],
   "source": [
    "# I don't recommend to visualize the whole graph.\n",
    "# It will take some time and look quit messy due to the large amount of triples\n",
    "# Use the sparql_query to query what you actually want to see.\n",
    "# Use  function arguments like 'hide_labels' or 'hide_literals' to simplify the graph\n",
    "# see ecamples below\n",
    "visualize_graph(graph, physics = False)"
   ]
  },
  {
   "cell_type": "markdown",
   "id": "37933f15-80a1-47a7-b91f-f9456a94389b",
   "metadata": {},
   "source": [
    "## Get all Repos and IAS9"
   ]
  },
  {
   "cell_type": "code",
   "execution_count": 6,
   "id": "ad154e63-c761-4dce-9764-7a11e2bd2aa1",
   "metadata": {
    "tags": []
   },
   "outputs": [
    {
     "name": "stdout",
     "output_type": "stream",
     "text": [
      "Warning: When  cdn_resources is 'local' jupyter notebook has issues displaying graphics on chrome/safari. Use cdn_resources='in_line' or cdn_resources='remote' if you have issues viewing graphics in a notebook.\n",
      "graph.html\n"
     ]
    },
    {
     "data": {
      "text/html": [
       "\n",
       "        <iframe\n",
       "            width=\"100%\"\n",
       "            height=\"600px\"\n",
       "            src=\"graph.html\"\n",
       "            frameborder=\"0\"\n",
       "            allowfullscreen\n",
       "            \n",
       "        ></iframe>\n",
       "        "
      ],
      "text/plain": [
       "<IPython.lib.display.IFrame at 0x23548ebfa50>"
      ]
     },
     "execution_count": 6,
     "metadata": {},
     "output_type": "execute_result"
    }
   ],
   "source": [
    "query = \"\"\"\n",
    "PREFIX schema: <http://schema.org/>\n",
    "\n",
    "SELECT ?subject ?predicate ?object\n",
    "WHERE {\n",
    "  ?subject a schema:SoftwareSourceCode .\n",
    "  ?subject ?predicate ?object .\n",
    "  FILTER (?predicate = schema:sourceOrganisation)\n",
    "}\n",
    "\"\"\"\n",
    "visualize_graph(graph, physics = True, hide_labels = True, sparql_query = query)"
   ]
  },
  {
   "cell_type": "markdown",
   "id": "72bb2596-0807-4766-848b-b5750ccd80b9",
   "metadata": {},
   "source": [
    "## Get all Repos and its Contributor"
   ]
  },
  {
   "cell_type": "code",
   "execution_count": 6,
   "id": "a66841cb-d164-4c3c-8503-0b1f64701616",
   "metadata": {
    "tags": []
   },
   "outputs": [
    {
     "name": "stdout",
     "output_type": "stream",
     "text": [
      "Warning: When  cdn_resources is 'local' jupyter notebook has issues displaying graphics on chrome/safari. Use cdn_resources='in_line' or cdn_resources='remote' if you have issues viewing graphics in a notebook.\n",
      "graph.html\n"
     ]
    },
    {
     "data": {
      "text/html": [
       "\n",
       "        <iframe\n",
       "            width=\"100%\"\n",
       "            height=\"600px\"\n",
       "            src=\"graph.html\"\n",
       "            frameborder=\"0\"\n",
       "            allowfullscreen\n",
       "            \n",
       "        ></iframe>\n",
       "        "
      ],
      "text/plain": [
       "<IPython.lib.display.IFrame at 0x1b1f2b5b010>"
      ]
     },
     "execution_count": 6,
     "metadata": {},
     "output_type": "execute_result"
    }
   ],
   "source": [
    "query = \"\"\"\n",
    "PREFIX schema: <http://schema.org/>\n",
    "\n",
    "SELECT ?subject ?predicate ?object\n",
    "WHERE {\n",
    "  ?subject a schema:SoftwareSourceCode .\n",
    "  ?subject ?predicate ?object .\n",
    "  FILTER (?predicate = schema:contributor)\n",
    "}\n",
    "\"\"\"\n",
    "visualize_graph(graph, physics = True, sparql_query = query)"
   ]
  },
  {
   "cell_type": "markdown",
   "id": "e618a0ea-797b-49ad-8389-4b0edbc90225",
   "metadata": {},
   "source": [
    "## Get the Repo of a given Name + connected Nodes"
   ]
  },
  {
   "cell_type": "code",
   "execution_count": 7,
   "id": "8ecab06f-9648-401c-bce3-c538056252f4",
   "metadata": {
    "tags": []
   },
   "outputs": [
    {
     "name": "stdout",
     "output_type": "stream",
     "text": [
      "Warning: When  cdn_resources is 'local' jupyter notebook has issues displaying graphics on chrome/safari. Use cdn_resources='in_line' or cdn_resources='remote' if you have issues viewing graphics in a notebook.\n",
      "graph.html\n"
     ]
    },
    {
     "data": {
      "text/html": [
       "\n",
       "        <iframe\n",
       "            width=\"100%\"\n",
       "            height=\"600px\"\n",
       "            src=\"graph.html\"\n",
       "            frameborder=\"0\"\n",
       "            allowfullscreen\n",
       "            \n",
       "        ></iframe>\n",
       "        "
      ],
      "text/plain": [
       "<IPython.lib.display.IFrame at 0x1b1f2e13010>"
      ]
     },
     "execution_count": 7,
     "metadata": {},
     "output_type": "execute_result"
    }
   ],
   "source": [
    "query = \"\"\"\n",
    "PREFIX schema: <http://schema.org/>\n",
    "\n",
    "SELECT ?subject ?predicate ?object\n",
    "WHERE {\n",
    "  ?software a schema:SoftwareSourceCode .\n",
    "  ?software schema:name \"metador-push\" .\n",
    "\n",
    "  ?software ?predicate ?object .\n",
    "  \n",
    "  BIND(?software AS ?subject) \n",
    "}\n",
    "\n",
    "\"\"\"\n",
    "visualize_graph(graph, physics = False, hide_labels = True,\n",
    "                sparql_query = query)"
   ]
  },
  {
   "cell_type": "markdown",
   "id": "f27a32c4-30c9-4811-b56d-3c4edecdad37",
   "metadata": {},
   "source": [
    "## View a specific Person"
   ]
  },
  {
   "cell_type": "code",
   "execution_count": 8,
   "id": "460b43f6-d896-49f6-bfc4-4a6aeef950d5",
   "metadata": {
    "tags": []
   },
   "outputs": [
    {
     "name": "stdout",
     "output_type": "stream",
     "text": [
      "Warning: When  cdn_resources is 'local' jupyter notebook has issues displaying graphics on chrome/safari. Use cdn_resources='in_line' or cdn_resources='remote' if you have issues viewing graphics in a notebook.\n",
      "graph.html\n"
     ]
    },
    {
     "data": {
      "text/html": [
       "\n",
       "        <iframe\n",
       "            width=\"100%\"\n",
       "            height=\"600px\"\n",
       "            src=\"graph.html\"\n",
       "            frameborder=\"0\"\n",
       "            allowfullscreen\n",
       "            \n",
       "        ></iframe>\n",
       "        "
      ],
      "text/plain": [
       "<IPython.lib.display.IFrame at 0x1b1f2e63810>"
      ]
     },
     "execution_count": 8,
     "metadata": {},
     "output_type": "execute_result"
    }
   ],
   "source": [
    "query = \"\"\"\n",
    "PREFIX schema: <http://schema.org/>\n",
    "\n",
    "SELECT ?subject ?predicate ?object\n",
    "WHERE {\n",
    "  ?person a schema:Person .\n",
    "  ?person schema:familyName \"Hofmann\" .\n",
    "\n",
    "  ?person ?predicate ?object .\n",
    "  \n",
    "  BIND(?person AS ?subject) \n",
    "}\n",
    "\"\"\"\n",
    "visualize_graph(graph, physics = False, hide_labels = True,\n",
    "                sparql_query = query)"
   ]
  },
  {
   "cell_type": "code",
   "execution_count": 9,
   "id": "23687808-e2ee-4cba-a7b9-afc7df7aac71",
   "metadata": {
    "tags": []
   },
   "outputs": [
    {
     "name": "stdout",
     "output_type": "stream",
     "text": [
      "Warning: When  cdn_resources is 'local' jupyter notebook has issues displaying graphics on chrome/safari. Use cdn_resources='in_line' or cdn_resources='remote' if you have issues viewing graphics in a notebook.\n",
      "graph.html\n"
     ]
    },
    {
     "data": {
      "text/html": [
       "\n",
       "        <iframe\n",
       "            width=\"100%\"\n",
       "            height=\"600px\"\n",
       "            src=\"graph.html\"\n",
       "            frameborder=\"0\"\n",
       "            allowfullscreen\n",
       "            \n",
       "        ></iframe>\n",
       "        "
      ],
      "text/plain": [
       "<IPython.lib.display.IFrame at 0x1b1f2fc3e90>"
      ]
     },
     "execution_count": 9,
     "metadata": {},
     "output_type": "execute_result"
    }
   ],
   "source": [
    "query = \"\"\"\n",
    "PREFIX schema: <http://schema.org/>\n",
    "\n",
    "SELECT ?subject ?predicate ?object\n",
    "WHERE {\n",
    "  ?person a schema:Person .\n",
    "  ?person schema:familyName \"Hofmann\" .\n",
    "  \n",
    "  {\n",
    "    ?person ?predicate ?object .\n",
    "    BIND(?person AS ?subject) \n",
    "  }\n",
    "  UNION\n",
    "  {\n",
    "    ?subject ?predicate ?person .\n",
    "    BIND(?person AS ?object) \n",
    "  }\n",
    "}\n",
    "\"\"\"\n",
    "visualize_graph(graph, physics = False, hide_labels = True,\n",
    "                sparql_query = query)"
   ]
  },
  {
   "cell_type": "code",
   "execution_count": null,
   "id": "c2b91998-60bb-4039-ba58-bea7f2c31c52",
   "metadata": {},
   "outputs": [],
   "source": []
  }
 ],
 "metadata": {
  "kernelspec": {
   "display_name": "Python [conda env:ias9_env]",
   "language": "python",
   "name": "conda-env-ias9_env-py"
  },
  "language_info": {
   "codemirror_mode": {
    "name": "ipython",
    "version": 3
   },
   "file_extension": ".py",
   "mimetype": "text/x-python",
   "name": "python",
   "nbconvert_exporter": "python",
   "pygments_lexer": "ipython3",
   "version": "3.11.10"
  }
 },
 "nbformat": 4,
 "nbformat_minor": 5
}
